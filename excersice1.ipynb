{
 "cells": [
  {
   "cell_type": "markdown",
   "id": "26536370-0f53-40f5-a27c-a93574948948",
   "metadata": {},
   "source": [
    "Data Science Tools and Ecosystem"
   ]
  },
  {
   "cell_type": "markdown",
   "id": "958bfb99-cb15-464d-936a-3f19175c4225",
   "metadata": {},
   "source": [
    "In this notebook, Data Science Tools and Ecosystem are summarized."
   ]
  },
  {
   "cell_type": "markdown",
   "id": "c9f8c688-5486-4888-8728-bee86ab32c4e",
   "metadata": {},
   "source": [
    "Some of the popular languages that Data Scientists use are:"
   ]
  },
  {
   "cell_type": "markdown",
   "id": "793bdc67-e354-427b-9837-4ed1d793b0d0",
   "metadata": {},
   "source": [
    "1. Python\n",
    "2. R\n",
    "3. SQL"
   ]
  },
  {
   "cell_type": "markdown",
   "id": "4f8d578a-9fff-4f67-a5a7-04342a92acee",
   "metadata": {},
   "source": [
    "Some of the commonly used libraries used by Data Scientists include:"
   ]
  },
  {
   "cell_type": "markdown",
   "id": "cc02544e-2f06-4322-bdf7-ede6eebd27f8",
   "metadata": {},
   "source": [
    "1. Pandas\n",
    "2. NumPy\n",
    "3. Scikit-learn\n",
    "4. Matplotlib"
   ]
  },
  {
   "cell_type": "markdown",
   "id": "d675da4a-ef4f-4973-b7e0-9a133c77d756",
   "metadata": {},
   "source": [
    "Data Science Tools:"
   ]
  },
  {
   "cell_type": "markdown",
   "id": "bcf8f42a-c1f3-410f-a965-9d1d2eb3a3f5",
   "metadata": {},
   "source": [
    "| Data Science Tools |\n",
    "|--------------------|\n",
    "| Jupyter Notebook   |\n",
    "| RStudio            |\n",
    "| Apache Zeppelin    |"
   ]
  },
  {
   "cell_type": "markdown",
   "id": "82573a37-e493-4681-be29-4f904b824548",
   "metadata": {},
   "source": [
    "### Below are a few examples of evaluating arithmetic expressions in Python.\n"
   ]
  },
  {
   "cell_type": "markdown",
   "id": "d6c4d079-843c-42f9-9ec2-8a000f324b4a",
   "metadata": {},
   "source": [
    "this simple calculation check the result of 3*(2+6)"
   ]
  },
  {
   "cell_type": "code",
   "execution_count": 1,
   "id": "00adb0de-ae31-4096-b5f3-3db7ef7f1e61",
   "metadata": {},
   "outputs": [
    {
     "data": {
      "text/plain": [
       "24"
      ]
     },
     "execution_count": 1,
     "metadata": {},
     "output_type": "execute_result"
    }
   ],
   "source": [
    "3*(2+6)"
   ]
  },
  {
   "cell_type": "markdown",
   "id": "c961a17d-9a99-4f55-89cf-3e1fa75d6f69",
   "metadata": {},
   "source": [
    "**Objectives:**\n",
    "\n",
    "- List popular languages for Data Science\n",
    "- Describe commonly used libraries in Data Science\n",
    "- Identify development environment open source tools\n",
    "- Evaluate arithmetic expressions in Python\n",
    "- Explore Markdown formatting in Jupyter Notebooks"
   ]
  },
  {
   "cell_type": "markdown",
   "id": "914ee1b9-b9f9-4f39-9817-f0c93104b474",
   "metadata": {},
   "source": [
    "This will convert 200 minutes to hours by dividing by 60"
   ]
  },
  {
   "cell_type": "code",
   "execution_count": 2,
   "id": "39b2b8c6-efce-4e77-a8a0-15b954dfaad5",
   "metadata": {},
   "outputs": [
    {
     "data": {
      "text/plain": [
       "3.3333333333333335"
      ]
     },
     "execution_count": 2,
     "metadata": {},
     "output_type": "execute_result"
    }
   ],
   "source": [
    "minutes = 200\n",
    "hours = minutes / 60\n",
    "hours"
   ]
  },
  {
   "cell_type": "markdown",
   "id": "9150ce2c-3de6-43ff-82ee-d5f8bcc8a59d",
   "metadata": {},
   "source": [
    "## Author\n",
    "\n",
    "Michael Hagayev"
   ]
  },
  {
   "cell_type": "code",
   "execution_count": null,
   "id": "60a9d70f-c5bd-4159-8117-94cf79c7835d",
   "metadata": {},
   "outputs": [],
   "source": []
  }
 ],
 "metadata": {
  "kernelspec": {
   "display_name": "Python 3 (ipykernel)",
   "language": "python",
   "name": "python3"
  },
  "language_info": {
   "codemirror_mode": {
    "name": "ipython",
    "version": 3
   },
   "file_extension": ".py",
   "mimetype": "text/x-python",
   "name": "python",
   "nbconvert_exporter": "python",
   "pygments_lexer": "ipython3",
   "version": "3.11.7"
  }
 },
 "nbformat": 4,
 "nbformat_minor": 5
}
